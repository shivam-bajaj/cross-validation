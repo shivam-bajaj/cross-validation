{
 "cells": [
  {
   "attachments": {},
   "cell_type": "markdown",
   "id": "e1ea6249-67ee-4154-99fc-81842252df14",
   "metadata": {},
   "source": [
    "# Churn Modelling"
   ]
  },
  {
   "cell_type": "code",
   "execution_count": 1,
   "id": "006335b5-5988-4ed1-814c-38df1b0ea3ea",
   "metadata": {},
   "outputs": [],
   "source": [
    "#import libraries\n",
    "import pandas as pd\n",
    "import numpy as np\n",
    "import matplotlib.pyplot as plt\n",
    "from collections import Counter\n",
    "#np.set_printoptions(threshold=np.inf)\n",
    "np.set_printoptions(threshold=1000)"
   ]
  },
  {
   "cell_type": "markdown",
   "id": "a4051c32",
   "metadata": {},
   "source": [
    "# Importing the Dataset"
   ]
  },
  {
   "cell_type": "code",
   "execution_count": 2,
   "id": "f4aefd2a-a0c5-4906-ada7-b2df0f4e6dae",
   "metadata": {},
   "outputs": [
    {
     "data": {
      "text/html": [
       "<div>\n",
       "<style scoped>\n",
       "    .dataframe tbody tr th:only-of-type {\n",
       "        vertical-align: middle;\n",
       "    }\n",
       "\n",
       "    .dataframe tbody tr th {\n",
       "        vertical-align: top;\n",
       "    }\n",
       "\n",
       "    .dataframe thead th {\n",
       "        text-align: right;\n",
       "    }\n",
       "</style>\n",
       "<table border=\"1\" class=\"dataframe\">\n",
       "  <thead>\n",
       "    <tr style=\"text-align: right;\">\n",
       "      <th></th>\n",
       "      <th>RowNumber</th>\n",
       "      <th>CustomerId</th>\n",
       "      <th>Surname</th>\n",
       "      <th>CreditScore</th>\n",
       "      <th>Geography</th>\n",
       "      <th>Gender</th>\n",
       "      <th>Age</th>\n",
       "      <th>Tenure</th>\n",
       "      <th>Balance</th>\n",
       "      <th>NumOfProducts</th>\n",
       "      <th>HasCrCard</th>\n",
       "      <th>IsActiveMember</th>\n",
       "      <th>EstimatedSalary</th>\n",
       "      <th>Exited</th>\n",
       "    </tr>\n",
       "  </thead>\n",
       "  <tbody>\n",
       "    <tr>\n",
       "      <th>0</th>\n",
       "      <td>1</td>\n",
       "      <td>15634602</td>\n",
       "      <td>Hargrave</td>\n",
       "      <td>619</td>\n",
       "      <td>France</td>\n",
       "      <td>Female</td>\n",
       "      <td>42</td>\n",
       "      <td>2</td>\n",
       "      <td>0.00</td>\n",
       "      <td>1</td>\n",
       "      <td>1</td>\n",
       "      <td>1</td>\n",
       "      <td>101348.88</td>\n",
       "      <td>1</td>\n",
       "    </tr>\n",
       "    <tr>\n",
       "      <th>1</th>\n",
       "      <td>2</td>\n",
       "      <td>15647311</td>\n",
       "      <td>Hill</td>\n",
       "      <td>608</td>\n",
       "      <td>Spain</td>\n",
       "      <td>Female</td>\n",
       "      <td>41</td>\n",
       "      <td>1</td>\n",
       "      <td>83807.86</td>\n",
       "      <td>1</td>\n",
       "      <td>0</td>\n",
       "      <td>1</td>\n",
       "      <td>112542.58</td>\n",
       "      <td>0</td>\n",
       "    </tr>\n",
       "    <tr>\n",
       "      <th>2</th>\n",
       "      <td>3</td>\n",
       "      <td>15619304</td>\n",
       "      <td>Onio</td>\n",
       "      <td>502</td>\n",
       "      <td>France</td>\n",
       "      <td>Female</td>\n",
       "      <td>42</td>\n",
       "      <td>8</td>\n",
       "      <td>159660.80</td>\n",
       "      <td>3</td>\n",
       "      <td>1</td>\n",
       "      <td>0</td>\n",
       "      <td>113931.57</td>\n",
       "      <td>1</td>\n",
       "    </tr>\n",
       "    <tr>\n",
       "      <th>3</th>\n",
       "      <td>4</td>\n",
       "      <td>15701354</td>\n",
       "      <td>Boni</td>\n",
       "      <td>699</td>\n",
       "      <td>France</td>\n",
       "      <td>Female</td>\n",
       "      <td>39</td>\n",
       "      <td>1</td>\n",
       "      <td>0.00</td>\n",
       "      <td>2</td>\n",
       "      <td>0</td>\n",
       "      <td>0</td>\n",
       "      <td>93826.63</td>\n",
       "      <td>0</td>\n",
       "    </tr>\n",
       "    <tr>\n",
       "      <th>4</th>\n",
       "      <td>5</td>\n",
       "      <td>15737888</td>\n",
       "      <td>Mitchell</td>\n",
       "      <td>850</td>\n",
       "      <td>Spain</td>\n",
       "      <td>Female</td>\n",
       "      <td>43</td>\n",
       "      <td>2</td>\n",
       "      <td>125510.82</td>\n",
       "      <td>1</td>\n",
       "      <td>1</td>\n",
       "      <td>1</td>\n",
       "      <td>79084.10</td>\n",
       "      <td>0</td>\n",
       "    </tr>\n",
       "  </tbody>\n",
       "</table>\n",
       "</div>"
      ],
      "text/plain": [
       "   RowNumber  CustomerId   Surname  CreditScore Geography  Gender  Age  \\\n",
       "0          1    15634602  Hargrave          619    France  Female   42   \n",
       "1          2    15647311      Hill          608     Spain  Female   41   \n",
       "2          3    15619304      Onio          502    France  Female   42   \n",
       "3          4    15701354      Boni          699    France  Female   39   \n",
       "4          5    15737888  Mitchell          850     Spain  Female   43   \n",
       "\n",
       "   Tenure    Balance  NumOfProducts  HasCrCard  IsActiveMember  \\\n",
       "0       2       0.00              1          1               1   \n",
       "1       1   83807.86              1          0               1   \n",
       "2       8  159660.80              3          1               0   \n",
       "3       1       0.00              2          0               0   \n",
       "4       2  125510.82              1          1               1   \n",
       "\n",
       "   EstimatedSalary  Exited  \n",
       "0        101348.88       1  \n",
       "1        112542.58       0  \n",
       "2        113931.57       1  \n",
       "3         93826.63       0  \n",
       "4         79084.10       0  "
      ]
     },
     "execution_count": 2,
     "metadata": {},
     "output_type": "execute_result"
    }
   ],
   "source": [
    "df = pd.read_csv('Churn_Modelling.csv')\n",
    "df.head()"
   ]
  },
  {
   "cell_type": "code",
   "execution_count": 3,
   "id": "fadd5510-27af-424b-8591-4c321c7eb9df",
   "metadata": {},
   "outputs": [
    {
     "data": {
      "text/plain": [
       "RowNumber          0\n",
       "CustomerId         0\n",
       "Surname            0\n",
       "CreditScore        0\n",
       "Geography          0\n",
       "Gender             0\n",
       "Age                0\n",
       "Tenure             0\n",
       "Balance            0\n",
       "NumOfProducts      0\n",
       "HasCrCard          0\n",
       "IsActiveMember     0\n",
       "EstimatedSalary    0\n",
       "Exited             0\n",
       "dtype: int64"
      ]
     },
     "execution_count": 3,
     "metadata": {},
     "output_type": "execute_result"
    }
   ],
   "source": [
    "# Checking null Values\n",
    "df.isnull().sum()"
   ]
  },
  {
   "cell_type": "code",
   "execution_count": 4,
   "id": "990ce5fd-bbce-4a3d-8d07-cd5cc491b150",
   "metadata": {},
   "outputs": [
    {
     "name": "stdout",
     "output_type": "stream",
     "text": [
      "<class 'pandas.core.frame.DataFrame'>\n"
     ]
    },
    {
     "data": {
      "text/html": [
       "<div>\n",
       "<style scoped>\n",
       "    .dataframe tbody tr th:only-of-type {\n",
       "        vertical-align: middle;\n",
       "    }\n",
       "\n",
       "    .dataframe tbody tr th {\n",
       "        vertical-align: top;\n",
       "    }\n",
       "\n",
       "    .dataframe thead th {\n",
       "        text-align: right;\n",
       "    }\n",
       "</style>\n",
       "<table border=\"1\" class=\"dataframe\">\n",
       "  <thead>\n",
       "    <tr style=\"text-align: right;\">\n",
       "      <th></th>\n",
       "      <th>CreditScore</th>\n",
       "      <th>Geography</th>\n",
       "      <th>Gender</th>\n",
       "      <th>Age</th>\n",
       "      <th>Tenure</th>\n",
       "      <th>Balance</th>\n",
       "      <th>NumOfProducts</th>\n",
       "      <th>HasCrCard</th>\n",
       "      <th>IsActiveMember</th>\n",
       "      <th>EstimatedSalary</th>\n",
       "    </tr>\n",
       "  </thead>\n",
       "  <tbody>\n",
       "    <tr>\n",
       "      <th>0</th>\n",
       "      <td>619</td>\n",
       "      <td>France</td>\n",
       "      <td>Female</td>\n",
       "      <td>42</td>\n",
       "      <td>2</td>\n",
       "      <td>0.00</td>\n",
       "      <td>1</td>\n",
       "      <td>1</td>\n",
       "      <td>1</td>\n",
       "      <td>101348.88</td>\n",
       "    </tr>\n",
       "    <tr>\n",
       "      <th>1</th>\n",
       "      <td>608</td>\n",
       "      <td>Spain</td>\n",
       "      <td>Female</td>\n",
       "      <td>41</td>\n",
       "      <td>1</td>\n",
       "      <td>83807.86</td>\n",
       "      <td>1</td>\n",
       "      <td>0</td>\n",
       "      <td>1</td>\n",
       "      <td>112542.58</td>\n",
       "    </tr>\n",
       "    <tr>\n",
       "      <th>2</th>\n",
       "      <td>502</td>\n",
       "      <td>France</td>\n",
       "      <td>Female</td>\n",
       "      <td>42</td>\n",
       "      <td>8</td>\n",
       "      <td>159660.80</td>\n",
       "      <td>3</td>\n",
       "      <td>1</td>\n",
       "      <td>0</td>\n",
       "      <td>113931.57</td>\n",
       "    </tr>\n",
       "    <tr>\n",
       "      <th>3</th>\n",
       "      <td>699</td>\n",
       "      <td>France</td>\n",
       "      <td>Female</td>\n",
       "      <td>39</td>\n",
       "      <td>1</td>\n",
       "      <td>0.00</td>\n",
       "      <td>2</td>\n",
       "      <td>0</td>\n",
       "      <td>0</td>\n",
       "      <td>93826.63</td>\n",
       "    </tr>\n",
       "    <tr>\n",
       "      <th>4</th>\n",
       "      <td>850</td>\n",
       "      <td>Spain</td>\n",
       "      <td>Female</td>\n",
       "      <td>43</td>\n",
       "      <td>2</td>\n",
       "      <td>125510.82</td>\n",
       "      <td>1</td>\n",
       "      <td>1</td>\n",
       "      <td>1</td>\n",
       "      <td>79084.10</td>\n",
       "    </tr>\n",
       "    <tr>\n",
       "      <th>...</th>\n",
       "      <td>...</td>\n",
       "      <td>...</td>\n",
       "      <td>...</td>\n",
       "      <td>...</td>\n",
       "      <td>...</td>\n",
       "      <td>...</td>\n",
       "      <td>...</td>\n",
       "      <td>...</td>\n",
       "      <td>...</td>\n",
       "      <td>...</td>\n",
       "    </tr>\n",
       "    <tr>\n",
       "      <th>9995</th>\n",
       "      <td>771</td>\n",
       "      <td>France</td>\n",
       "      <td>Male</td>\n",
       "      <td>39</td>\n",
       "      <td>5</td>\n",
       "      <td>0.00</td>\n",
       "      <td>2</td>\n",
       "      <td>1</td>\n",
       "      <td>0</td>\n",
       "      <td>96270.64</td>\n",
       "    </tr>\n",
       "    <tr>\n",
       "      <th>9996</th>\n",
       "      <td>516</td>\n",
       "      <td>France</td>\n",
       "      <td>Male</td>\n",
       "      <td>35</td>\n",
       "      <td>10</td>\n",
       "      <td>57369.61</td>\n",
       "      <td>1</td>\n",
       "      <td>1</td>\n",
       "      <td>1</td>\n",
       "      <td>101699.77</td>\n",
       "    </tr>\n",
       "    <tr>\n",
       "      <th>9997</th>\n",
       "      <td>709</td>\n",
       "      <td>France</td>\n",
       "      <td>Female</td>\n",
       "      <td>36</td>\n",
       "      <td>7</td>\n",
       "      <td>0.00</td>\n",
       "      <td>1</td>\n",
       "      <td>0</td>\n",
       "      <td>1</td>\n",
       "      <td>42085.58</td>\n",
       "    </tr>\n",
       "    <tr>\n",
       "      <th>9998</th>\n",
       "      <td>772</td>\n",
       "      <td>Germany</td>\n",
       "      <td>Male</td>\n",
       "      <td>42</td>\n",
       "      <td>3</td>\n",
       "      <td>75075.31</td>\n",
       "      <td>2</td>\n",
       "      <td>1</td>\n",
       "      <td>0</td>\n",
       "      <td>92888.52</td>\n",
       "    </tr>\n",
       "    <tr>\n",
       "      <th>9999</th>\n",
       "      <td>792</td>\n",
       "      <td>France</td>\n",
       "      <td>Female</td>\n",
       "      <td>28</td>\n",
       "      <td>4</td>\n",
       "      <td>130142.79</td>\n",
       "      <td>1</td>\n",
       "      <td>1</td>\n",
       "      <td>0</td>\n",
       "      <td>38190.78</td>\n",
       "    </tr>\n",
       "  </tbody>\n",
       "</table>\n",
       "<p>10000 rows × 10 columns</p>\n",
       "</div>"
      ],
      "text/plain": [
       "      CreditScore Geography  Gender  Age  Tenure    Balance  NumOfProducts  \\\n",
       "0             619    France  Female   42       2       0.00              1   \n",
       "1             608     Spain  Female   41       1   83807.86              1   \n",
       "2             502    France  Female   42       8  159660.80              3   \n",
       "3             699    France  Female   39       1       0.00              2   \n",
       "4             850     Spain  Female   43       2  125510.82              1   \n",
       "...           ...       ...     ...  ...     ...        ...            ...   \n",
       "9995          771    France    Male   39       5       0.00              2   \n",
       "9996          516    France    Male   35      10   57369.61              1   \n",
       "9997          709    France  Female   36       7       0.00              1   \n",
       "9998          772   Germany    Male   42       3   75075.31              2   \n",
       "9999          792    France  Female   28       4  130142.79              1   \n",
       "\n",
       "      HasCrCard  IsActiveMember  EstimatedSalary  \n",
       "0             1               1        101348.88  \n",
       "1             0               1        112542.58  \n",
       "2             1               0        113931.57  \n",
       "3             0               0         93826.63  \n",
       "4             1               1         79084.10  \n",
       "...         ...             ...              ...  \n",
       "9995          1               0         96270.64  \n",
       "9996          1               1        101699.77  \n",
       "9997          0               1         42085.58  \n",
       "9998          1               0         92888.52  \n",
       "9999          1               0         38190.78  \n",
       "\n",
       "[10000 rows x 10 columns]"
      ]
     },
     "execution_count": 4,
     "metadata": {},
     "output_type": "execute_result"
    }
   ],
   "source": [
    "x= df.iloc[:,3:-1]\n",
    "print(type(x))\n",
    "x"
   ]
  },
  {
   "cell_type": "code",
   "execution_count": 5,
   "id": "9ed7b9ce-d3f3-4f80-b62d-f683f59342df",
   "metadata": {},
   "outputs": [
    {
     "name": "stdout",
     "output_type": "stream",
     "text": [
      "<class 'numpy.ndarray'>\n"
     ]
    },
    {
     "data": {
      "text/plain": [
       "array([1, 0, 1, ..., 1, 1, 0], dtype=int64)"
      ]
     },
     "execution_count": 5,
     "metadata": {},
     "output_type": "execute_result"
    }
   ],
   "source": [
    "y= df.iloc[:,-1].values\n",
    "print(type(y))\n",
    "y"
   ]
  },
  {
   "cell_type": "code",
   "execution_count": 6,
   "id": "ca8e6039",
   "metadata": {},
   "outputs": [
    {
     "data": {
      "text/plain": [
       "Exited\n",
       "0    7963\n",
       "1    2037\n",
       "Name: count, dtype: int64"
      ]
     },
     "execution_count": 6,
     "metadata": {},
     "output_type": "execute_result"
    }
   ],
   "source": [
    "df.iloc[:,-1].value_counts()"
   ]
  },
  {
   "attachments": {},
   "cell_type": "markdown",
   "id": "183b3a72-a95f-4305-a22c-11b4e4f13237",
   "metadata": {},
   "source": [
    "# Encoding Categorical Data"
   ]
  },
  {
   "cell_type": "code",
   "execution_count": 7,
   "id": "9fb3c065-b068-49a6-af86-8102796dfcb8",
   "metadata": {},
   "outputs": [],
   "source": [
    "# import libraries\n",
    "from sklearn.compose import ColumnTransformer\n",
    "from sklearn.preprocessing import OneHotEncoder,OrdinalEncoder,LabelEncoder"
   ]
  },
  {
   "attachments": {},
   "cell_type": "markdown",
   "id": "43d9f46c-3e8e-4af2-bc4c-92c9c1243212",
   "metadata": {},
   "source": [
    "Geography and Gender are categorical values  \n",
    "Geography -> Label Encoder or Ordinal Encoder  \n",
    "Gender    -> One Hot Encoder   \n",
    "We can directy use Column transformer apply One Hot Encoder and Ordinal Encoder or we apply One Hot Encoder  and Label Encoder separtately"
   ]
  },
  {
   "cell_type": "code",
   "execution_count": 8,
   "id": "af43510b",
   "metadata": {},
   "outputs": [],
   "source": [
    "ct = ColumnTransformer(transformers=[('Country',OneHotEncoder(),[1]),('Gender',OrdinalEncoder(),[2])],remainder='passthrough')\n",
    "x= ct.fit_transform(x)"
   ]
  },
  {
   "cell_type": "code",
   "execution_count": 9,
   "id": "218b9943-5e8b-4d7c-b43c-58b858b90a03",
   "metadata": {},
   "outputs": [],
   "source": [
    "# Avoiding Dummy variable Trap\n",
    "x=x[:,1:]"
   ]
  },
  {
   "cell_type": "markdown",
   "id": "4e767918",
   "metadata": {},
   "source": [
    "# Spliting the Dataset"
   ]
  },
  {
   "cell_type": "markdown",
   "id": "51566e30",
   "metadata": {},
   "source": [
    "Spliting the Datset into 2 sets only.  \n",
    "We will split the data for validation in cross validation technique, but will create hold out set for testing the model.  \n",
    "Both the sets will have equal proportion of class label"
   ]
  },
  {
   "cell_type": "code",
   "execution_count": 10,
   "id": "f524a694",
   "metadata": {},
   "outputs": [
    {
     "name": "stdout",
     "output_type": "stream",
     "text": [
      "(9000, 11) (1000, 11) (9000,) (1000,)\n"
     ]
    }
   ],
   "source": [
    "from sklearn.model_selection import train_test_split\n",
    "X, x_hold_out ,Y, y_hold_out = train_test_split(x,y,test_size=0.1,random_state=42,stratify=y)\n",
    "print(X.shape,x_hold_out.shape,Y.shape,y_hold_out.shape)"
   ]
  },
  {
   "cell_type": "code",
   "execution_count": 11,
   "id": "667b599c",
   "metadata": {},
   "outputs": [
    {
     "name": "stdout",
     "output_type": "stream",
     "text": [
      "Ratio in hold_out_set -> 0.204\n",
      "Ratio in for cross validate set -> 0.204\n"
     ]
    }
   ],
   "source": [
    "print(f\"Ratio in hold_out_set -> {Counter(y_hold_out)[1]/len(y_hold_out)}\")\n",
    "print(f\"Ratio in for cross validate set -> {round(Counter(Y)[1]/len(Y),3)}\")"
   ]
  },
  {
   "cell_type": "markdown",
   "id": "c2fe5fb9",
   "metadata": {},
   "source": [
    "# Feature Scaling"
   ]
  },
  {
   "cell_type": "markdown",
   "id": "f7129318",
   "metadata": {},
   "source": [
    "We will not performing scaling at this step becuase we have to scale and tranform Each Fold separately.  \n",
    "If we perform scaling, we will be leaking the data for validation."
   ]
  },
  {
   "cell_type": "markdown",
   "id": "59411686",
   "metadata": {},
   "source": [
    "# Cross Validation"
   ]
  },
  {
   "cell_type": "markdown",
   "id": "b977fde7",
   "metadata": {},
   "source": [
    "Cross-validation is a resampling method that uses different portions of the data to test and train a model on different iterations. It is mainly used in settings where the goal is prediction, and one wants to estimate how accurately a predictive model will perform in practice."
   ]
  },
  {
   "cell_type": "code",
   "execution_count": 12,
   "id": "f93ed4ad",
   "metadata": {},
   "outputs": [
    {
     "data": {
      "text/plain": [
       "'2.13.0'"
      ]
     },
     "execution_count": 12,
     "metadata": {},
     "output_type": "execute_result"
    }
   ],
   "source": [
    "import tensorflow as tf\n",
    "from sklearn.preprocessing import StandardScaler\n",
    "tf.__version__"
   ]
  },
  {
   "cell_type": "markdown",
   "id": "76b18f90",
   "metadata": {},
   "source": [
    "## K-Fold Cross Validation"
   ]
  },
  {
   "cell_type": "markdown",
   "id": "d78e84ae",
   "metadata": {},
   "source": [
    "K-fold cross-validation is a technique for evaluating predictive models.  \n",
    " The data is divided into k subsets or folds. The model is trained and evaluated k times, using a different fold as the validation set each time."
   ]
  },
  {
   "cell_type": "code",
   "execution_count": 13,
   "id": "4df6b3bb",
   "metadata": {},
   "outputs": [],
   "source": [
    "from sklearn.model_selection import KFold\n",
    "kcv=KFold(n_splits=9,shuffle=True,random_state=7)"
   ]
  },
  {
   "cell_type": "markdown",
   "id": "d94f5a18",
   "metadata": {},
   "source": [
    "## Stratified K-Fold Cross Validtion"
   ]
  },
  {
   "cell_type": "markdown",
   "id": "ad41b6d4",
   "metadata": {},
   "source": [
    "Stratified K fold cross-validation object is a variation of KFold that returns stratified folds.  \n",
    "The folds are made by preserving the percentage of samples for each class."
   ]
  },
  {
   "cell_type": "code",
   "execution_count": 14,
   "id": "b5ad488b",
   "metadata": {},
   "outputs": [],
   "source": [
    "from sklearn.model_selection import StratifiedKFold\n",
    "scv =  StratifiedKFold(n_splits=9,shuffle=True,random_state=7)"
   ]
  },
  {
   "cell_type": "markdown",
   "id": "35f8e1fd",
   "metadata": {},
   "source": [
    "# Stratified K-Fold vs K-FOld CV"
   ]
  },
  {
   "cell_type": "markdown",
   "id": "f8deb221",
   "metadata": {},
   "source": [
    "##  Class Distribution in Folds"
   ]
  },
  {
   "cell_type": "code",
   "execution_count": 15,
   "id": "b32d04d4",
   "metadata": {},
   "outputs": [],
   "source": [
    "ratio = lambda idx: Counter(Y[idx])[1]/len(Y[idx])\n",
    "def fold_class_ratio(cv):\n",
    "    for fold_no,(train,test) in enumerate(cv.split(X,Y)):\n",
    "        print(f'{fold_no+1} Fold Ratio-> Training Set : {round(ratio(train),3)} Validatiion Set : {ratio(test)}')  "
   ]
  },
  {
   "cell_type": "code",
   "execution_count": 16,
   "metadata": {},
   "outputs": [
    {
     "name": "stdout",
     "output_type": "stream",
     "text": [
      "K-Fold\n",
      "1 Fold Ratio-> Training Set : 0.202 Validatiion Set : 0.214\n",
      "2 Fold Ratio-> Training Set : 0.202 Validatiion Set : 0.219\n",
      "3 Fold Ratio-> Training Set : 0.206 Validatiion Set : 0.188\n",
      "4 Fold Ratio-> Training Set : 0.205 Validatiion Set : 0.189\n",
      "5 Fold Ratio-> Training Set : 0.203 Validatiion Set : 0.213\n",
      "6 Fold Ratio-> Training Set : 0.202 Validatiion Set : 0.215\n",
      "7 Fold Ratio-> Training Set : 0.206 Validatiion Set : 0.187\n",
      "8 Fold Ratio-> Training Set : 0.203 Validatiion Set : 0.211\n",
      "9 Fold Ratio-> Training Set : 0.204 Validatiion Set : 0.197\n"
     ]
    }
   ],
   "source": [
    "print(\"K-Fold\")\n",
    "fold_class_ratio(kcv)"
   ]
  },
  {
   "cell_type": "code",
   "execution_count": 17,
   "id": "9ee2acca",
   "metadata": {},
   "outputs": [
    {
     "name": "stdout",
     "output_type": "stream",
     "text": [
      "Stratified K-Fold\n",
      "1 Fold Ratio-> Training Set : 0.204 Validatiion Set : 0.203\n",
      "2 Fold Ratio-> Training Set : 0.204 Validatiion Set : 0.203\n",
      "3 Fold Ratio-> Training Set : 0.204 Validatiion Set : 0.203\n",
      "4 Fold Ratio-> Training Set : 0.204 Validatiion Set : 0.204\n",
      "5 Fold Ratio-> Training Set : 0.204 Validatiion Set : 0.204\n",
      "6 Fold Ratio-> Training Set : 0.204 Validatiion Set : 0.204\n",
      "7 Fold Ratio-> Training Set : 0.204 Validatiion Set : 0.204\n",
      "8 Fold Ratio-> Training Set : 0.204 Validatiion Set : 0.204\n",
      "9 Fold Ratio-> Training Set : 0.204 Validatiion Set : 0.204\n"
     ]
    }
   ],
   "source": [
    "print(\"Stratified K-Fold\")\n",
    "fold_class_ratio(scv)"
   ]
  },
  {
   "cell_type": "markdown",
   "id": "7a8afe3f",
   "metadata": {},
   "source": [
    "Stratified K-Fold gives you stratified folds, which is useful when your Dataset have imbalanced Class Distribution"
   ]
  },
  {
   "cell_type": "markdown",
   "id": "03c32dd6",
   "metadata": {},
   "source": [
    "## Building the Model"
   ]
  },
  {
   "cell_type": "code",
   "execution_count": 18,
   "id": "9c38a564",
   "metadata": {},
   "outputs": [],
   "source": [
    "def build_model():\n",
    "    nn = tf.keras.Sequential()\n",
    "    nn.add(tf.keras.layers.Input(shape=11))\n",
    "    nn.add(tf.keras.layers.Dense(units=7,activation='relu',kernel_initializer='glorot_uniform'))\n",
    "    nn.add(tf.keras.layers.Dropout(rate=0.1))\n",
    "    nn.add(tf.keras.layers.Dense(units=5,activation='relu'))    \n",
    "    nn.add(tf.keras.layers.Dropout(rate=0.1))\n",
    "    nn.add(tf.keras.layers.Dense(units=1,activation='sigmoid'))\n",
    "    nn.compile(optimizer='adam',loss='binary_crossentropy',metrics=['accuracy'])\n",
    "    return nn"
   ]
  },
  {
   "cell_type": "code",
   "execution_count": 19,
   "id": "33cb1fa9",
   "metadata": {},
   "outputs": [],
   "source": [
    "def cross_validation_score(cv):\n",
    "    scores_per_fold=[]\n",
    "    for fold_no,(train,test) in enumerate(cv.split(X,Y)):\n",
    "        print(f\"Training for Fold {fold_no+1}\")\n",
    "        sc= StandardScaler()\n",
    "        x_train , x_test = X[train] , X[test]\n",
    "        x_train=sc.fit_transform(x_train)\n",
    "        x_test=sc.transform(x_test)\n",
    "        nn=build_model()\n",
    "        nn.fit(x_train,Y[train],batch_size=20,epochs=50,verbose=0)\n",
    "        scores = nn.evaluate(x_test,Y[test])\n",
    "        scores_per_fold.append(scores)\n",
    "    return scores_per_fold"
   ]
  },
  {
   "cell_type": "markdown",
   "id": "4bf7e4af",
   "metadata": {},
   "source": [
    "## Evaluation"
   ]
  },
  {
   "cell_type": "markdown",
   "id": "2b1a6210",
   "metadata": {},
   "source": [
    "### K-Fold"
   ]
  },
  {
   "cell_type": "code",
   "execution_count": 20,
   "id": "a288008b",
   "metadata": {},
   "outputs": [
    {
     "name": "stdout",
     "output_type": "stream",
     "text": [
      "Training for Fold 1\n",
      "32/32 [==============================] - 0s 1ms/step - loss: 0.3616 - accuracy: 0.8360\n",
      "Training for Fold 2\n",
      "32/32 [==============================] - 0s 1ms/step - loss: 0.3502 - accuracy: 0.8650\n",
      "Training for Fold 3\n",
      "32/32 [==============================] - 0s 1ms/step - loss: 0.3559 - accuracy: 0.8500\n",
      "Training for Fold 4\n",
      "32/32 [==============================] - 0s 1ms/step - loss: 0.3293 - accuracy: 0.8690\n",
      "Training for Fold 5\n",
      "32/32 [==============================] - 0s 1ms/step - loss: 0.3443 - accuracy: 0.8570\n",
      "Training for Fold 6\n",
      "32/32 [==============================] - 0s 2ms/step - loss: 0.3594 - accuracy: 0.8510\n",
      "Training for Fold 7\n",
      "32/32 [==============================] - 0s 2ms/step - loss: 0.3292 - accuracy: 0.8670\n",
      "Training for Fold 8\n",
      "32/32 [==============================] - 0s 1ms/step - loss: 0.3764 - accuracy: 0.8470\n",
      "Training for Fold 9\n",
      "32/32 [==============================] - 0s 2ms/step - loss: 0.3890 - accuracy: 0.8390\n"
     ]
    }
   ],
   "source": [
    "# implementing K-fold cross validation\n",
    "kfold_scores = cross_validation_score(kcv)"
   ]
  },
  {
   "cell_type": "markdown",
   "id": "99c62cec",
   "metadata": {},
   "source": [
    "#### Loss per Fold"
   ]
  },
  {
   "cell_type": "code",
   "execution_count": 21,
   "id": "22c5eb9c",
   "metadata": {},
   "outputs": [
    {
     "name": "stdout",
     "output_type": "stream",
     "text": [
      "[0.3615981340408325, 0.35015740990638733, 0.35593125224113464, 0.3292751610279083, 0.3442644476890564, 0.35940229892730713, 0.3292301595211029, 0.3763592541217804, 0.38898202776908875]\n"
     ]
    }
   ],
   "source": [
    "kfold_loss =[loss[0] for loss in kfold_scores]\n",
    "print(kfold_loss)"
   ]
  },
  {
   "cell_type": "code",
   "execution_count": 22,
   "id": "d0200cd1",
   "metadata": {},
   "outputs": [
    {
     "data": {
      "image/png": "[encoded data removed]",
      "text/plain": [
       "<Figure size 640x480 with 1 Axes>"
      ]
     },
     "metadata": {},
     "output_type": "display_data"
    }
   ],
   "source": [
    "folds = list(range(1,10))\n",
    "plt.bar(folds,kfold_loss,width=0.3,color=\"red\")\n",
    "plt.xlabel(\"Folds\")\n",
    "plt.ylabel(\"Loss\")\n",
    "plt.show()"
   ]
  },
  {
   "cell_type": "markdown",
   "id": "3a393431",
   "metadata": {},
   "source": [
    "#### Accuarcy per Fold"
   ]
  },
  {
   "cell_type": "code",
   "execution_count": 23,
   "id": "40ad1bf2",
   "metadata": {},
   "outputs": [
    {
     "name": "stdout",
     "output_type": "stream",
     "text": [
      "[83.60000252723694, 86.50000095367432, 85.00000238418579, 86.90000176429749, 85.69999933242798, 85.10000109672546, 86.69999837875366, 84.7000002861023, 83.89999866485596]\n"
     ]
    }
   ],
   "source": [
    "kfold_acc = [ acc[1]*100 for acc in kfold_scores]\n",
    "print(kfold_acc)"
   ]
  },
  {
   "cell_type": "code",
   "execution_count": 24,
   "id": "01d49e13",
   "metadata": {},
   "outputs": [
    {
     "data": {
      "image/png": "[encoded data removed]",
      "text/plain": [
       "<Figure size 640x480 with 1 Axes>"
      ]
     },
     "metadata": {},
     "output_type": "display_data"
    }
   ],
   "source": [
    "plt.bar(folds,kfold_acc,width=0.3,color=\"cyan\")\n",
    "plt.xlabel(\"Folds\")\n",
    "plt.ylabel(\"Accuracy\")\n",
    "plt.show()"
   ]
  },
  {
   "cell_type": "code",
   "execution_count": 25,
   "id": "cc1206d0",
   "metadata": {},
   "outputs": [
    {
     "name": "stdout",
     "output_type": "stream",
     "text": [
      "Mean Accuracy -> 85.34444504313998\n"
     ]
    }
   ],
   "source": [
    "print(f\"Mean Accuracy -> {np.array(kfold_acc).mean()}\")"
   ]
  },
  {
   "cell_type": "markdown",
   "id": "afd6f0f1",
   "metadata": {},
   "source": [
    "### Stratified K-Fold"
   ]
  },
  {
   "cell_type": "code",
   "execution_count": 26,
   "id": "214b9c3e",
   "metadata": {},
   "outputs": [
    {
     "name": "stdout",
     "output_type": "stream",
     "text": [
      "Training for Fold 1\n",
      "32/32 [==============================] - 0s 2ms/step - loss: 0.3677 - accuracy: 0.8490\n",
      "Training for Fold 2\n",
      "32/32 [==============================] - 0s 1ms/step - loss: 0.3472 - accuracy: 0.8440\n",
      "Training for Fold 3\n",
      "32/32 [==============================] - 0s 1ms/step - loss: 0.3279 - accuracy: 0.8750\n",
      "Training for Fold 4\n",
      "32/32 [==============================] - 0s 1ms/step - loss: 0.3576 - accuracy: 0.8480\n",
      "Training for Fold 5\n",
      "32/32 [==============================] - 0s 1ms/step - loss: 0.3721 - accuracy: 0.8590\n",
      "Training for Fold 6\n",
      "32/32 [==============================] - 0s 1ms/step - loss: 0.3203 - accuracy: 0.8670\n",
      "Training for Fold 7\n",
      "32/32 [==============================] - 0s 1ms/step - loss: 0.3303 - accuracy: 0.8620\n",
      "Training for Fold 8\n",
      "32/32 [==============================] - 0s 2ms/step - loss: 0.3488 - accuracy: 0.8560\n",
      "Training for Fold 9\n",
      "32/32 [==============================] - 0s 1ms/step - loss: 0.3620 - accuracy: 0.8510\n"
     ]
    }
   ],
   "source": [
    "# Implementing Stratified K-Fold\n",
    "skcv_scores = cross_validation_score(scv)"
   ]
  },
  {
   "cell_type": "markdown",
   "id": "15d114a6",
   "metadata": {},
   "source": [
    "#### Loss per Fold"
   ]
  },
  {
   "cell_type": "code",
   "execution_count": 27,
   "id": "1e1d467b",
   "metadata": {},
   "outputs": [
    {
     "name": "stdout",
     "output_type": "stream",
     "text": [
      "[0.36768847703933716, 0.34721776843070984, 0.3278697431087494, 0.35764431953430176, 0.3720710277557373, 0.32026636600494385, 0.33034414052963257, 0.34880027174949646, 0.3620304465293884]\n"
     ]
    }
   ],
   "source": [
    "skcv_loss = [loss[0] for loss in skcv_scores]\n",
    "print(skcv_loss)"
   ]
  },
  {
   "cell_type": "code",
   "execution_count": 28,
   "id": "be7acf22",
   "metadata": {},
   "outputs": [
    {
     "data": {
      "image/png": "[encoded data removed]",
      "text/plain": [
       "<Figure size 640x480 with 1 Axes>"
      ]
     },
     "metadata": {},
     "output_type": "display_data"
    }
   ],
   "source": [
    "plt.bar(folds,skcv_loss,width=0.3,color=\"red\")\n",
    "plt.xlabel(\"Folds\")\n",
    "plt.ylabel(\"Loss\")\n",
    "plt.show()"
   ]
  },
  {
   "cell_type": "markdown",
   "id": "d46110de",
   "metadata": {},
   "source": [
    "#### Accuarcy per Fold"
   ]
  },
  {
   "cell_type": "code",
   "execution_count": 29,
   "id": "9cee275e",
   "metadata": {},
   "outputs": [
    {
     "name": "stdout",
     "output_type": "stream",
     "text": [
      "[84.89999771118164, 84.3999981880188, 87.5, 84.79999899864197, 85.9000027179718, 86.69999837875366, 86.19999885559082, 85.6000006198883, 85.10000109672546]\n"
     ]
    }
   ],
   "source": [
    "\n",
    "skcv_acc = [acc[1]*100 for acc in skcv_scores]\n",
    "print(skcv_acc)"
   ]
  },
  {
   "cell_type": "code",
   "execution_count": 30,
   "id": "bfbe9e5b",
   "metadata": {},
   "outputs": [
    {
     "data": {
      "image/png": "[encoded data removed]",
      "text/plain": [
       "<Figure size 640x480 with 1 Axes>"
      ]
     },
     "metadata": {},
     "output_type": "display_data"
    }
   ],
   "source": [
    "plt.bar(folds,skcv_acc,width=0.3,color=\"cyan\")\n",
    "plt.xlabel(\"Folds\")\n",
    "plt.ylabel(\"Loss\")\n",
    "plt.show()"
   ]
  },
  {
   "cell_type": "code",
   "execution_count": 31,
   "id": "0c798120",
   "metadata": {},
   "outputs": [
    {
     "name": "stdout",
     "output_type": "stream",
     "text": [
      "Mean Accuracy - 85.67777739630804\n"
     ]
    }
   ],
   "source": [
    "print(f\"Mean Accuracy - {np.array(skcv_acc).mean()}\")\n",
    "    "
   ]
  },
  {
   "cell_type": "markdown",
   "id": "1b590ac0",
   "metadata": {},
   "source": [
    "# wrappers.KerasClassifier and cross_val_score"
   ]
  },
  {
   "cell_type": "code",
   "execution_count": 32,
   "id": "c1da5367",
   "metadata": {},
   "outputs": [],
   "source": [
    "from sklearn.model_selection import cross_val_score\n",
    "from sklearn.pipeline import Pipeline"
   ]
  },
  {
   "cell_type": "markdown",
   "id": "74d2a239",
   "metadata": {},
   "source": [
    "We can not use Keras model directly in sklearn cross_val_score,  \n",
    "we will need wrapper, to use keras model in cross_val_score"
   ]
  },
  {
   "cell_type": "code",
   "execution_count": 33,
   "id": "221fd6d4",
   "metadata": {},
   "outputs": [],
   "source": [
    "from scikeras.wrappers import KerasClassifier"
   ]
  },
  {
   "cell_type": "code",
   "execution_count": 34,
   "id": "a649926a",
   "metadata": {},
   "outputs": [],
   "source": [
    "classifier= KerasClassifier(build_fn=build_model,batch_size=20,epochs=50)"
   ]
  },
  {
   "cell_type": "code",
   "execution_count": 35,
   "id": "1a3c5d28",
   "metadata": {},
   "outputs": [],
   "source": [
    "pipe=Pipeline([('scaler',StandardScaler()),('model',classifier)],verbose=True)"
   ]
  },
  {
   "cell_type": "code",
   "execution_count": 36,
   "id": "ca306bf0",
   "metadata": {},
   "outputs": [
    {
     "name": "stderr",
     "output_type": "stream",
     "text": [
      "[Parallel(n_jobs=-1)]: Using backend LokyBackend with 4 concurrent workers.\n",
      "[Parallel(n_jobs=-1)]: Done   9 out of   9 | elapsed:  2.8min finished\n"
     ]
    }
   ],
   "source": [
    "cvs = cross_val_score(estimator=pipe,X=X,y=Y,cv=9,n_jobs=-1,verbose=1)"
   ]
  },
  {
   "cell_type": "code",
   "execution_count": 37,
   "id": "973ca240",
   "metadata": {},
   "outputs": [
    {
     "name": "stdout",
     "output_type": "stream",
     "text": [
      "[0.848 0.861 0.866 0.858 0.848 0.849 0.854 0.849 0.872]\n"
     ]
    },
    {
     "data": {
      "text/plain": [
       "85.61111111111111"
      ]
     },
     "execution_count": 37,
     "metadata": {},
     "output_type": "execute_result"
    }
   ],
   "source": [
    "print(cvs)\n",
    "cvs.mean()*100"
   ]
  }
 ],
 "metadata": {
  "kernelspec": {
   "display_name": "dl",
   "language": "python",
   "name": "python3"
  },
  "language_info": {
   "codemirror_mode": {
    "name": "ipython",
    "version": 3
   },
   "file_extension": ".py",
   "mimetype": "text/x-python",
   "name": "python",
   "nbconvert_exporter": "python",
   "pygments_lexer": "ipython3",
   "version": "3.11.4"
  }
 },
 "nbformat": 4,
 "nbformat_minor": 5
}
